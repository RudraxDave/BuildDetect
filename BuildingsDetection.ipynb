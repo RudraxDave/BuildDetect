{
 "cells": [
  {
   "cell_type": "code",
   "execution_count": null,
   "id": "2930c5f9",
   "metadata": {},
   "outputs": [],
   "source": [
    "import rasterio\n",
    "import geopandas as gpd\n",
    "import numpy as np\n",
    "import matplotlib.pyplot as plt\n",
    "\n",
    "from pprint import pprint\n",
    "from rasterio.features import Window\n",
    "from rasterio.windows import bounds\n",
    "from shapely.geometry import MultiPolygon, box\n",
    "from PIL import Image\n",
    "from rasterio.features import Window\n",
    "from subprocess import call\n",
    "from IPython import display"
   ]
  },
  {
   "cell_type": "code",
   "execution_count": null,
   "id": "3dbcfa0a",
   "metadata": {},
   "outputs": [],
   "source": [
    "!head -n 30 buildings.geojson"
   ]
  },
  {
   "cell_type": "code",
   "execution_count": null,
   "id": "0d787893",
   "metadata": {},
   "outputs": [],
   "source": [
    "import geopandas as gpd\n",
    "g = gpd.read_file('buildings.geojson')\n",
    "g.head()"
   ]
  },
  {
   "cell_type": "code",
   "execution_count": null,
   "id": "d2e3cfc1",
   "metadata": {},
   "outputs": [],
   "source": [
    "g[g['material'] == 'wood']"
   ]
  },
  {
   "cell_type": "code",
   "execution_count": null,
   "id": "53c26bb5",
   "metadata": {},
   "outputs": [],
   "source": [
    "g.plot()"
   ]
  },
  {
   "cell_type": "code",
   "execution_count": null,
   "id": "a088b63d",
   "metadata": {},
   "outputs": [],
   "source": [
    "s = g['geometry'].loc[1]\n",
    "s"
   ]
  },
  {
   "cell_type": "code",
   "execution_count": null,
   "id": "fb0f9b40",
   "metadata": {},
   "outputs": [],
   "source": [
    "print(s)"
   ]
  },
  {
   "cell_type": "code",
   "execution_count": null,
   "id": "c1e7b55e",
   "metadata": {},
   "outputs": [],
   "source": [
    "s.area"
   ]
  },
  {
   "cell_type": "code",
   "execution_count": null,
   "id": "f5472cd9",
   "metadata": {},
   "outputs": [],
   "source": [
    "s.centroid"
   ]
  },
  {
   "cell_type": "code",
   "execution_count": null,
   "id": "9308d284",
   "metadata": {},
   "outputs": [],
   "source": [
    "!gdalinfo img.tif"
   ]
  },
  {
   "cell_type": "code",
   "execution_count": null,
   "id": "f7890827",
   "metadata": {},
   "outputs": [],
   "source": [
    "import rasterio\n",
    "with rasterio.open('img.tif', 'r') as src:\n",
    "    img = src.read()\n",
    "\n",
    "img"
   ]
  },
  {
   "cell_type": "code",
   "execution_count": null,
   "id": "97d60c2f",
   "metadata": {},
   "outputs": [],
   "source": [
    "import numpy as np\n",
    "np.max(img)"
   ]
  },
  {
   "cell_type": "code",
   "execution_count": null,
   "id": "8f8f74ab",
   "metadata": {},
   "outputs": [],
   "source": [
    "import rasterio\n",
    "import geopandas as gpd\n",
    "import numpy as np\n",
    "import matplotlib.pyplot as plt\n",
    "\n",
    "from pprint import pprint\n",
    "from rasterio.features import Window\n",
    "from rasterio.windows import bounds\n",
    "from shapely.geometry import MultiPolygon, box\n",
    "from PIL import Image\n",
    "from rasterio.features import Window\n",
    "from subprocess import call\n",
    "from IPython import display\n",
    "plt.imshow(img.T)"
   ]
  },
  {
   "cell_type": "code",
   "execution_count": null,
   "id": "638a8a06",
   "metadata": {},
   "outputs": [],
   "source": [
    "with rasterio.open('img.tif') as src:\n",
    "    witdth = src.width\n",
    "    hight = src.height\n",
    "    p = src.profile.copy()"
   ]
  },
  {
   "cell_type": "code",
   "execution_count": null,
   "id": "dbd707eb",
   "metadata": {},
   "outputs": [],
   "source": [
    "col_off = (src.width / 2) - (1000 / 2)\n",
    "row_off = (src.height / 2) - (1000 / 2)"
   ]
  },
  {
   "cell_type": "code",
   "execution_count": null,
   "id": "5a543083",
   "metadata": {},
   "outputs": [],
   "source": [
    "pprint(p['transform'])"
   ]
  },
  {
   "cell_type": "code",
   "execution_count": null,
   "id": "ab077af7",
   "metadata": {},
   "outputs": [],
   "source": [
    "win = Window(col_off=col_off, row_off=row_off, width=1000, height=1000)"
   ]
  },
  {
   "cell_type": "code",
   "execution_count": null,
   "id": "5a7504da",
   "metadata": {},
   "outputs": [],
   "source": [
    "x = rasterio.open('img.tif').window_transform(win)"
   ]
  },
  {
   "cell_type": "code",
   "execution_count": null,
   "id": "3497790c",
   "metadata": {},
   "outputs": [],
   "source": [
    "x"
   ]
  },
  {
   "cell_type": "code",
   "execution_count": null,
   "id": "5df97a51",
   "metadata": {},
   "outputs": [],
   "source": [
    "with rasterio.open('img.tif') as src:\n",
    "    f = src.read(window=win)\n",
    "    p = src.profile.copy()\n",
    "    p['width'] = win.width\n",
    "    p['height'] = win.height\n",
    "    p['transform'] = src.window_transform(win)"
   ]
  },
  {
   "cell_type": "code",
   "execution_count": null,
   "id": "7d76a010",
   "metadata": {},
   "outputs": [],
   "source": [
    "f.shape"
   ]
  },
  {
   "cell_type": "code",
   "execution_count": null,
   "id": "acacb19e",
   "metadata": {},
   "outputs": [],
   "source": [
    "with rasterio.open('sample.tif', 'w', **p) as dst:\n",
    "    dst.write(f)"
   ]
  },
  {
   "cell_type": "code",
   "execution_count": null,
   "id": "142797be",
   "metadata": {},
   "outputs": [],
   "source": [
    "!ls"
   ]
  },
  {
   "cell_type": "code",
   "execution_count": null,
   "id": "9d25339b",
   "metadata": {},
   "outputs": [],
   "source": [
    "all_bldgs = gpd.read_file('buildings.geojson')"
   ]
  },
  {
   "cell_type": "code",
   "execution_count": null,
   "id": "f5b9e9f9",
   "metadata": {},
   "outputs": [],
   "source": [
    "  img_bounds = src.bounds"
   ]
  },
  {
   "cell_type": "code",
   "execution_count": null,
   "id": "c0d89de4",
   "metadata": {},
   "outputs": [],
   "source": [
    "# left, bottom, right, top\n",
    "l, b, r, t = img_bounds"
   ]
  },
  {
   "cell_type": "code",
   "execution_count": null,
   "id": "30874ec5",
   "metadata": {},
   "outputs": [],
   "source": [
    "from shapely.geometry import Polygon"
   ]
  },
  {
   "cell_type": "code",
   "execution_count": null,
   "id": "bde1ba99",
   "metadata": {},
   "outputs": [],
   "source": [
    "from shapely.geometry import Polygon\n",
    "img_bbox = Polygon([(l, b), (l, t), (r, t), (r, b)])\n",
    "img_bbox"
   ]
  },
  {
   "cell_type": "code",
   "execution_count": null,
   "id": "0125c80a",
   "metadata": {},
   "outputs": [],
   "source": [
    "import geopandas as gpd\n",
    "bbox_gdf = gpd.GeoDataFrame({'geometry': [img_bbox]}, crs = 32636)"
   ]
  },
  {
   "cell_type": "code",
   "execution_count": null,
   "id": "b25adb6d",
   "metadata": {},
   "outputs": [],
   "source": [
    "bbox_gdf.plot()"
   ]
  },
  {
   "cell_type": "code",
   "execution_count": null,
   "id": "63ac68fc",
   "metadata": {},
   "outputs": [],
   "source": [
    "all_bldgs"
   ]
  },
  {
   "cell_type": "code",
   "execution_count": null,
   "id": "97e56f42",
   "metadata": {},
   "outputs": [],
   "source": [
    "bldgs = gpd.overlay(all_bldgs, bbox_gdf, how='intersection')"
   ]
  },
  {
   "cell_type": "code",
   "execution_count": null,
   "id": "2fc9ebb2",
   "metadata": {},
   "outputs": [],
   "source": [
    "import os\n",
    "from shutil import rmtree\n",
    "\n",
    "if os.path.isdir('buildings'):\n",
    "    rmtree('buildings')\n",
    "os.makedirs('buildings/true')\n",
    "os.makedirs('buildings/false')"
   ]
  },
  {
   "cell_type": "code",
   "execution_count": null,
   "id": "73269e68",
   "metadata": {},
   "outputs": [],
   "source": [
    "mp = MultiPolygon(bldgs['geometry'].values)"
   ]
  },
  {
   "cell_type": "code",
   "execution_count": null,
   "id": "2d12870e",
   "metadata": {},
   "outputs": [],
   "source": [
    "# specify the png image size (in pixels) \n",
    "png_size = 600"
   ]
  },
  {
   "cell_type": "code",
   "execution_count": null,
   "id": "107b91d4",
   "metadata": {},
   "outputs": [],
   "source": [
    "with rasterio.open('img.tif') as src:\n",
    "    \n",
    "    # gather width and height of input image\n",
    "    width = src.width\n",
    "    height = src.height\n",
    "    \n",
    "    # iterate over the image in a grid of 1200x1200 pixel squares\n",
    "    for w in range(0, width, png_size):\n",
    "        for h in range(0, height, png_size):\n",
    "\n",
    "            # construct Window object using row/col and size\n",
    "            win = Window(w, h, png_size, png_size)\n",
    "            \n",
    "            # find the corresponding spatial coordinates\n",
    "            trans = src.window_transform(win)\n",
    "            \n",
    "            # read the window portion in as a numpy array\n",
    "            a = src.read(window=win)\n",
    "            \n",
    "            # create shapely object that represents the bounds of the window\n",
    "            p = src.profile.copy()\n",
    "            p['width'] = win.width\n",
    "            p['height'] = win.height\n",
    "            p['transform'] = src.window_transform(win)\n",
    "            with rasterio.open('/tmp/tmp.tif', 'w', **p) as dst:\n",
    "                bnds = dst.bounds\n",
    "            \n",
    "            x = Polygon(box(*bnds))\n",
    "            \n",
    "            # check whether the window intersects with any buildings\n",
    "            has_bldg = x.intersects(mp)\n",
    "            \n",
    "            if has_bldg is True:\n",
    "                label = 'true'\n",
    "            else:\n",
    "                label = 'false'\n",
    "                        \n",
    "            # create a PIL image from the numpy array\n",
    "            im = Image.fromarray(a[0:3].T)\n",
    "            \n",
    "            # save the image off as a png\n",
    "            fp = f'buildings/{label}/{w}-{h}.png'\n",
    "            im.save(fp)"
   ]
  },
  {
   "cell_type": "code",
   "execution_count": null,
   "id": "61a100e0",
   "metadata": {},
   "outputs": [],
   "source": [
    "display.Image(filename=f'buildings/false/{os.listdir(\"buildings/false\")[1]}')"
   ]
  },
  {
   "cell_type": "code",
   "execution_count": null,
   "id": "214027f8",
   "metadata": {},
   "outputs": [],
   "source": [
    "display.Image(filename=f'buildings/true/{os.listdir(\"buildings/true\")[1]}')"
   ]
  },
  {
   "cell_type": "code",
   "execution_count": null,
   "id": "5e1efb8e",
   "metadata": {},
   "outputs": [],
   "source": [
    "# get a shapely polygon of a window's bounding box\n",
    "def window_bbox(dataset_reader, win):\n",
    "    p = dataset_reader.profile.copy()\n",
    "    p['width'] = win.width\n",
    "    p['height'] = win.height\n",
    "    p['transform'] = dataset_reader.window_transform(win)\n",
    "    with rasterio.open('/tmp/tmp.tif', 'w', **p) as dst:\n",
    "        bnds = dst.bounds\n",
    "            \n",
    "    x = Polygon(box(*bnds))\n",
    "    \n",
    "    return x"
   ]
  },
  {
   "cell_type": "code",
   "execution_count": null,
   "id": "97d3b916",
   "metadata": {},
   "outputs": [],
   "source": [
    "with rasterio.open('img.tif', 'r') as src:\n",
    "    win = Window(0, 0, 1000, 1000)\n",
    "    a = src.read(window = win)\n",
    "    win_bbox = window_bbox(src, win)\n",
    "    trans = src.window_transform(win)"
   ]
  },
  {
   "cell_type": "code",
   "execution_count": null,
   "id": "3146c24b",
   "metadata": {},
   "outputs": [],
   "source": [
    "win_bldgs = gpd.clip(bldgs, win_bbox)"
   ]
  },
  {
   "cell_type": "code",
   "execution_count": null,
   "id": "886e18d6",
   "metadata": {},
   "outputs": [],
   "source": [
    "win_bldgs['condition_num'] = win_bldgs['condition'].apply(lambda x: 1 if x == 'poor' else 2)"
   ]
  },
  {
   "cell_type": "code",
   "execution_count": null,
   "id": "88744dfd",
   "metadata": {},
   "outputs": [],
   "source": [
    "win_bldgs"
   ]
  },
  {
   "cell_type": "code",
   "execution_count": null,
   "id": "c8a9e844",
   "metadata": {},
   "outputs": [],
   "source": [
    "from rasterio.features import rasterize"
   ]
  },
  {
   "cell_type": "code",
   "execution_count": null,
   "id": "e801a041",
   "metadata": {},
   "outputs": [],
   "source": [
    "def tuple_to_list(t):\n",
    "    return list(map(tuple_to_list, t)) if isinstance(t, (list, tuple)) else t"
   ]
  },
  {
   "cell_type": "code",
   "execution_count": null,
   "id": "806983c8",
   "metadata": {},
   "outputs": [],
   "source": [
    "def preformat_geom(geom):\n",
    "    gj = geom.__geo_interface__\n",
    "    gj['coordinates'] = tuple_to_list(gj['coordinates'])\n",
    "    \n",
    "    return gj"
   ]
  },
  {
   "cell_type": "code",
   "execution_count": null,
   "id": "79585c23",
   "metadata": {},
   "outputs": [],
   "source": [
    "shapes = list(zip(win_bldgs['geometry'], win_bldgs['condition_num']))"
   ]
  },
  {
   "cell_type": "code",
   "execution_count": null,
   "id": "a9ddfae5",
   "metadata": {},
   "outputs": [],
   "source": [
    "shapes"
   ]
  },
  {
   "cell_type": "code",
   "execution_count": null,
   "id": "e4576d8c",
   "metadata": {},
   "outputs": [],
   "source": [
    "a.shape"
   ]
  },
  {
   "cell_type": "code",
   "execution_count": null,
   "id": "56bb0516",
   "metadata": {},
   "outputs": [],
   "source": [
    "out_shape = (1000, 1000)"
   ]
  },
  {
   "cell_type": "code",
   "execution_count": null,
   "id": "717daeaa",
   "metadata": {},
   "outputs": [],
   "source": [
    "fill = 0"
   ]
  },
  {
   "cell_type": "code",
   "execution_count": null,
   "id": "314adb78",
   "metadata": {},
   "outputs": [],
   "source": [
    "transform = trans"
   ]
  },
  {
   "cell_type": "code",
   "execution_count": null,
   "id": "25e64d76",
   "metadata": {},
   "outputs": [],
   "source": [
    "dtype = a.dtype\n",
    "dtype"
   ]
  },
  {
   "cell_type": "code",
   "execution_count": null,
   "id": "1e924e63",
   "metadata": {},
   "outputs": [],
   "source": [
    "pixel_labs = rasterize(shapes=shapes, out_shape=out_shape, fill=fill, transform = transform, dtype = dtype)"
   ]
  },
  {
   "cell_type": "code",
   "execution_count": null,
   "id": "2e3a0506",
   "metadata": {},
   "outputs": [],
   "source": [
    "pixel_labs.shape"
   ]
  },
  {
   "cell_type": "code",
   "execution_count": null,
   "id": "4ec9ef77",
   "metadata": {},
   "outputs": [],
   "source": [
    "# an example of the middle of the raster layer\n",
    "pixel_labs[400:600, 400:600]"
   ]
  },
  {
   "cell_type": "code",
   "execution_count": null,
   "id": "30be3738",
   "metadata": {},
   "outputs": [],
   "source": [
    "plt.imshow(pixel_labs)"
   ]
  },
  {
   "cell_type": "code",
   "execution_count": null,
   "id": "57c7938a",
   "metadata": {},
   "outputs": [],
   "source": [
    "plt.imshow(a[0:3].transpose([1, 2, 0]))"
   ]
  },
  {
   "cell_type": "code",
   "execution_count": null,
   "id": "fe793b0a",
   "metadata": {},
   "outputs": [],
   "source": [
    "win_bldgs.to_file('rasterize-bldgs.geojson', driver='GeoJSON')"
   ]
  },
  {
   "cell_type": "code",
   "execution_count": null,
   "id": "7959286a",
   "metadata": {},
   "outputs": [],
   "source": [
    "!gdal_rasterize -a condition_num -a_srs EPSG:32636 -ts 1000 1000 rasterize-bldgs.geojson bldg-raster.tif"
   ]
  },
  {
   "cell_type": "code",
   "execution_count": null,
   "id": "36cc4f81",
   "metadata": {},
   "outputs": [],
   "source": [
    "with rasterio.open('bldg-raster.tif', 'r') as src:\n",
    "    a = src.read()"
   ]
  },
  {
   "cell_type": "code",
   "execution_count": null,
   "id": "e948becd",
   "metadata": {},
   "outputs": [],
   "source": [
    "plt.imshow(a[0])"
   ]
  }
 ],
 "metadata": {
  "kernelspec": {
   "display_name": "Python 3",
   "language": "python",
   "name": "python3"
  },
  "language_info": {
   "codemirror_mode": {
    "name": "ipython",
    "version": 3
   },
   "file_extension": ".py",
   "mimetype": "text/x-python",
   "name": "python",
   "nbconvert_exporter": "python",
   "pygments_lexer": "ipython3",
   "version": "3.8.2"
  }
 },
 "nbformat": 4,
 "nbformat_minor": 5
}
